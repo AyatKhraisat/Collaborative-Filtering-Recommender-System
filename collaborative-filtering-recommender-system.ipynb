{
 "cells": [
  {
   "cell_type": "markdown",
   "metadata": {
    "papermill": {
     "duration": 0.016328,
     "end_time": "2021-03-05T14:38:27.730938",
     "exception": false,
     "start_time": "2021-03-05T14:38:27.714610",
     "status": "completed"
    },
    "tags": []
   },
   "source": [
    "# Collaborative Filtering Recommender System \n",
    "\n",
    "![](https://images.unsplash.com/photo-1560169897-fc0cdbdfa4d5?ixlib=rb-1.2.1&ixid=MXwxMjA3fDB8MHxwaG90by1wYWdlfHx8fGVufDB8fHw%3D&auto=format&fit=crop&w=2552&q=80)\n",
    "\n",
    "\n",
    "in the last notebook we have created a content-based recommender system to recommend similar movies to the user. one of the disadvantages of that algorithm it will always recommend content based on the user  already  watched and does not let him discover new content, also it might misunderstand what the user likes. in this notebook, we will work with a collaborative filtering algorithm.\n",
    "\n",
    "## What is Collaborative Filtering means?\n",
    "collaborative filtering recommends a list of movies based on people who like the same things as you, but who also like something that you haven’t yet consumed. its focus on the relationship between users and items. The similarity of items is determined by the similarity of the ratings of those items by the users who have rated both items.\n",
    "There are two types of Collaborative Filtering:\n",
    "1.User-based, which measures the similarity between target users and other users. \n",
    "2.Item-based, which measures the similarity between the items that target users rate or interact with and other items.\n",
    "\n",
    "in this notebook we will work with the user based recommendation technique as following:\n",
    "1.import the data and split it into training and testing data.\n",
    "2.find 20 nearest neighbors using cosine metric.\n",
    "3.collect the movies watched by the neighbors and not watched yet from the target user.\n",
    "4.calculate user predicted ratings.\n",
    "5.create recommedations withthe top 20 predicted movies."
   ]
  },
  {
   "cell_type": "markdown",
   "metadata": {
    "papermill": {
     "duration": 0.014662,
     "end_time": "2021-03-05T14:38:27.760450",
     "exception": false,
     "start_time": "2021-03-05T14:38:27.745788",
     "status": "completed"
    },
    "tags": []
   },
   "source": [
    "we will start by importing and splitting the data into training and testing data. we will use the testing data to evaluate the recommendation later on."
   ]
  },
  {
   "cell_type": "code",
   "execution_count": 1,
   "metadata": {
    "execution": {
     "iopub.execute_input": "2021-03-05T14:38:27.797151Z",
     "iopub.status.busy": "2021-03-05T14:38:27.796523Z",
     "iopub.status.idle": "2021-03-05T14:38:28.863482Z",
     "shell.execute_reply": "2021-03-05T14:38:28.862552Z"
    },
    "papermill": {
     "duration": 1.088335,
     "end_time": "2021-03-05T14:38:28.863713",
     "exception": false,
     "start_time": "2021-03-05T14:38:27.775378",
     "status": "completed"
    },
    "tags": []
   },
   "outputs": [],
   "source": [
    "import pandas as pd\n",
    "import numpy as np\n",
    "from sklearn.metrics.pairwise import linear_kernel, cosine_similarity\n",
    "from sklearn.metrics import mean_squared_error"
   ]
  },
  {
   "cell_type": "code",
   "execution_count": 2,
   "metadata": {
    "execution": {
     "iopub.execute_input": "2021-03-05T14:38:28.903766Z",
     "iopub.status.busy": "2021-03-05T14:38:28.903081Z",
     "iopub.status.idle": "2021-03-05T14:38:29.085392Z",
     "shell.execute_reply": "2021-03-05T14:38:29.084668Z"
    },
    "papermill": {
     "duration": 0.203539,
     "end_time": "2021-03-05T14:38:29.085586",
     "exception": false,
     "start_time": "2021-03-05T14:38:28.882047",
     "status": "completed"
    },
    "tags": []
   },
   "outputs": [],
   "source": [
    "movies=pd.read_csv('../input/movies-dataset/movies.csv')\n",
    "ratings=pd.read_csv('../input/movies-dataset/ratings.csv')"
   ]
  },
  {
   "cell_type": "code",
   "execution_count": 3,
   "metadata": {
    "execution": {
     "iopub.execute_input": "2021-03-05T14:38:29.123394Z",
     "iopub.status.busy": "2021-03-05T14:38:29.122636Z",
     "iopub.status.idle": "2021-03-05T14:38:29.142974Z",
     "shell.execute_reply": "2021-03-05T14:38:29.143504Z"
    },
    "papermill": {
     "duration": 0.041835,
     "end_time": "2021-03-05T14:38:29.143702",
     "exception": false,
     "start_time": "2021-03-05T14:38:29.101867",
     "status": "completed"
    },
    "tags": []
   },
   "outputs": [
    {
     "data": {
      "text/plain": [
       "userId       0\n",
       "movieId      0\n",
       "rating       0\n",
       "timestamp    0\n",
       "dtype: int64"
      ]
     },
     "execution_count": 3,
     "metadata": {},
     "output_type": "execute_result"
    }
   ],
   "source": [
    "#check if there is any none values \n",
    "ratings.isnull().sum()"
   ]
  },
  {
   "cell_type": "markdown",
   "metadata": {
    "papermill": {
     "duration": 0.015993,
     "end_time": "2021-03-05T14:38:29.176733",
     "exception": false,
     "start_time": "2021-03-05T14:38:29.160740",
     "status": "completed"
    },
    "tags": []
   },
   "source": [
    "we will round the rating to be integer values."
   ]
  },
  {
   "cell_type": "code",
   "execution_count": 4,
   "metadata": {
    "execution": {
     "iopub.execute_input": "2021-03-05T14:38:29.212669Z",
     "iopub.status.busy": "2021-03-05T14:38:29.211994Z",
     "iopub.status.idle": "2021-03-05T14:38:29.221424Z",
     "shell.execute_reply": "2021-03-05T14:38:29.221989Z"
    },
    "papermill": {
     "duration": 0.029152,
     "end_time": "2021-03-05T14:38:29.222207",
     "exception": false,
     "start_time": "2021-03-05T14:38:29.193055",
     "status": "completed"
    },
    "tags": []
   },
   "outputs": [],
   "source": [
    "ratings['rating']=round(ratings['rating'])"
   ]
  },
  {
   "cell_type": "code",
   "execution_count": 5,
   "metadata": {
    "execution": {
     "iopub.execute_input": "2021-03-05T14:38:29.262438Z",
     "iopub.status.busy": "2021-03-05T14:38:29.261379Z",
     "iopub.status.idle": "2021-03-05T14:38:29.278592Z",
     "shell.execute_reply": "2021-03-05T14:38:29.279115Z"
    },
    "papermill": {
     "duration": 0.040344,
     "end_time": "2021-03-05T14:38:29.279338",
     "exception": false,
     "start_time": "2021-03-05T14:38:29.238994",
     "status": "completed"
    },
    "tags": []
   },
   "outputs": [
    {
     "data": {
      "text/html": [
       "<div>\n",
       "<style scoped>\n",
       "    .dataframe tbody tr th:only-of-type {\n",
       "        vertical-align: middle;\n",
       "    }\n",
       "\n",
       "    .dataframe tbody tr th {\n",
       "        vertical-align: top;\n",
       "    }\n",
       "\n",
       "    .dataframe thead th {\n",
       "        text-align: right;\n",
       "    }\n",
       "</style>\n",
       "<table border=\"1\" class=\"dataframe\">\n",
       "  <thead>\n",
       "    <tr style=\"text-align: right;\">\n",
       "      <th></th>\n",
       "      <th>userId</th>\n",
       "      <th>movieId</th>\n",
       "      <th>rating</th>\n",
       "      <th>timestamp</th>\n",
       "    </tr>\n",
       "  </thead>\n",
       "  <tbody>\n",
       "    <tr>\n",
       "      <th>0</th>\n",
       "      <td>1</td>\n",
       "      <td>1</td>\n",
       "      <td>4.0</td>\n",
       "      <td>964982703</td>\n",
       "    </tr>\n",
       "    <tr>\n",
       "      <th>1</th>\n",
       "      <td>1</td>\n",
       "      <td>3</td>\n",
       "      <td>4.0</td>\n",
       "      <td>964981247</td>\n",
       "    </tr>\n",
       "    <tr>\n",
       "      <th>2</th>\n",
       "      <td>1</td>\n",
       "      <td>6</td>\n",
       "      <td>4.0</td>\n",
       "      <td>964982224</td>\n",
       "    </tr>\n",
       "    <tr>\n",
       "      <th>3</th>\n",
       "      <td>1</td>\n",
       "      <td>47</td>\n",
       "      <td>5.0</td>\n",
       "      <td>964983815</td>\n",
       "    </tr>\n",
       "    <tr>\n",
       "      <th>4</th>\n",
       "      <td>1</td>\n",
       "      <td>50</td>\n",
       "      <td>5.0</td>\n",
       "      <td>964982931</td>\n",
       "    </tr>\n",
       "    <tr>\n",
       "      <th>5</th>\n",
       "      <td>1</td>\n",
       "      <td>70</td>\n",
       "      <td>3.0</td>\n",
       "      <td>964982400</td>\n",
       "    </tr>\n",
       "    <tr>\n",
       "      <th>6</th>\n",
       "      <td>1</td>\n",
       "      <td>101</td>\n",
       "      <td>5.0</td>\n",
       "      <td>964980868</td>\n",
       "    </tr>\n",
       "    <tr>\n",
       "      <th>7</th>\n",
       "      <td>1</td>\n",
       "      <td>110</td>\n",
       "      <td>4.0</td>\n",
       "      <td>964982176</td>\n",
       "    </tr>\n",
       "    <tr>\n",
       "      <th>8</th>\n",
       "      <td>1</td>\n",
       "      <td>151</td>\n",
       "      <td>5.0</td>\n",
       "      <td>964984041</td>\n",
       "    </tr>\n",
       "    <tr>\n",
       "      <th>9</th>\n",
       "      <td>1</td>\n",
       "      <td>157</td>\n",
       "      <td>5.0</td>\n",
       "      <td>964984100</td>\n",
       "    </tr>\n",
       "  </tbody>\n",
       "</table>\n",
       "</div>"
      ],
      "text/plain": [
       "   userId  movieId  rating  timestamp\n",
       "0       1        1     4.0  964982703\n",
       "1       1        3     4.0  964981247\n",
       "2       1        6     4.0  964982224\n",
       "3       1       47     5.0  964983815\n",
       "4       1       50     5.0  964982931\n",
       "5       1       70     3.0  964982400\n",
       "6       1      101     5.0  964980868\n",
       "7       1      110     4.0  964982176\n",
       "8       1      151     5.0  964984041\n",
       "9       1      157     5.0  964984100"
      ]
     },
     "execution_count": 5,
     "metadata": {},
     "output_type": "execute_result"
    }
   ],
   "source": [
    "ratings.head(10)"
   ]
  },
  {
   "cell_type": "code",
   "execution_count": 6,
   "metadata": {
    "execution": {
     "iopub.execute_input": "2021-03-05T14:38:29.318566Z",
     "iopub.status.busy": "2021-03-05T14:38:29.317826Z",
     "iopub.status.idle": "2021-03-05T14:38:29.442961Z",
     "shell.execute_reply": "2021-03-05T14:38:29.442352Z"
    },
    "papermill": {
     "duration": 0.145393,
     "end_time": "2021-03-05T14:38:29.443136",
     "exception": false,
     "start_time": "2021-03-05T14:38:29.297743",
     "status": "completed"
    },
    "tags": []
   },
   "outputs": [],
   "source": [
    "from sklearn.model_selection import train_test_split\n",
    "training ,testing =train_test_split(ratings,\n",
    "                                   stratify=ratings['userId'], \n",
    "                                   test_size=0.20,\n",
    "                                   random_state=42)\n"
   ]
  },
  {
   "cell_type": "markdown",
   "metadata": {
    "papermill": {
     "duration": 0.016896,
     "end_time": "2021-03-05T14:38:29.478274",
     "exception": false,
     "start_time": "2021-03-05T14:38:29.461378",
     "status": "completed"
    },
    "tags": []
   },
   "source": [
    "we fill null value ratings with zeros so we can apply nearest neighbors. but we should replace it with NaN when we calculate the means."
   ]
  },
  {
   "cell_type": "code",
   "execution_count": 7,
   "metadata": {
    "execution": {
     "iopub.execute_input": "2021-03-05T14:38:29.522214Z",
     "iopub.status.busy": "2021-03-05T14:38:29.521090Z",
     "iopub.status.idle": "2021-03-05T14:38:29.685245Z",
     "shell.execute_reply": "2021-03-05T14:38:29.684616Z"
    },
    "papermill": {
     "duration": 0.189271,
     "end_time": "2021-03-05T14:38:29.685410",
     "exception": false,
     "start_time": "2021-03-05T14:38:29.496139",
     "status": "completed"
    },
    "tags": []
   },
   "outputs": [],
   "source": [
    "df= training.pivot(index='userId',columns='movieId',values='rating')\n",
    "df.fillna(0,inplace=True)"
   ]
  },
  {
   "cell_type": "markdown",
   "metadata": {
    "papermill": {
     "duration": 0.016905,
     "end_time": "2021-03-05T14:38:29.719539",
     "exception": false,
     "start_time": "2021-03-05T14:38:29.702634",
     "status": "completed"
    },
    "tags": []
   },
   "source": [
    "we will use cosine as a metric so nearest neighbors will be calculated based on cosine similarity between users."
   ]
  },
  {
   "cell_type": "code",
   "execution_count": 8,
   "metadata": {
    "execution": {
     "iopub.execute_input": "2021-03-05T14:38:29.760600Z",
     "iopub.status.busy": "2021-03-05T14:38:29.759785Z",
     "iopub.status.idle": "2021-03-05T14:38:30.162676Z",
     "shell.execute_reply": "2021-03-05T14:38:30.162121Z"
    },
    "papermill": {
     "duration": 0.425842,
     "end_time": "2021-03-05T14:38:30.162848",
     "exception": false,
     "start_time": "2021-03-05T14:38:29.737006",
     "status": "completed"
    },
    "tags": []
   },
   "outputs": [
    {
     "data": {
      "text/plain": [
       "NearestNeighbors(algorithm='brute', metric='cosine', n_jobs=-1, n_neighbors=20)"
      ]
     },
     "execution_count": 8,
     "metadata": {},
     "output_type": "execute_result"
    }
   ],
   "source": [
    "from sklearn.neighbors import NearestNeighbors\n",
    "model_knn = NearestNeighbors(metric='cosine', algorithm='brute', n_neighbors=20, n_jobs=-1)\n",
    "model_knn.fit(df)"
   ]
  },
  {
   "cell_type": "markdown",
   "metadata": {
    "papermill": {
     "duration": 0.016783,
     "end_time": "2021-03-05T14:38:30.196906",
     "exception": false,
     "start_time": "2021-03-05T14:38:30.180123",
     "status": "completed"
    },
    "tags": []
   },
   "source": [
    "we will use this formula to calculate the predicted mean:\n",
    "![Predicted rating formella](https://i.ibb.co/hf2wDdf/Screen-Shot-2021-03-04-at-11-35-24-AM.png)\n",
    "    \n",
    "    "
   ]
  },
  {
   "cell_type": "code",
   "execution_count": 9,
   "metadata": {
    "execution": {
     "iopub.execute_input": "2021-03-05T14:38:30.242346Z",
     "iopub.status.busy": "2021-03-05T14:38:30.241697Z",
     "iopub.status.idle": "2021-03-05T14:38:30.245060Z",
     "shell.execute_reply": "2021-03-05T14:38:30.244431Z"
    },
    "papermill": {
     "duration": 0.031245,
     "end_time": "2021-03-05T14:38:30.245236",
     "exception": false,
     "start_time": "2021-03-05T14:38:30.213991",
     "status": "completed"
    },
    "tags": []
   },
   "outputs": [],
   "source": [
    "def getRecommendations(userId):\n",
    "    user_movies=df.columns[df.loc[userId].to_numpy().nonzero()[0]]\n",
    "    user_mean=df.loc[userId].replace(0, np.NaN).mean()\n",
    "    distances, indices = model_knn.kneighbors([df.iloc[0]], n_neighbors=20)\n",
    "    neighbors=indices[0][1:]\n",
    "    #find the similarity between user and neighbors\n",
    "    sim=1-distances[0][1:]\n",
    "    \n",
    "    # find movies rated by neighbors\n",
    "    neighbors_movies=df.iloc[neighbors,:].sum()\n",
    "    neighbors_movies=neighbors_movies.loc[neighbors_movies>0].index\n",
    "    neighbors_movies= set(neighbors_movies)-set(user_movies)\n",
    "    \n",
    "    neighbors_ratings=df.iloc[neighbors]\n",
    "    neighbors_ratings = neighbors_ratings.replace(0, np.NaN)\n",
    "    neighbors_mean= neighbors_ratings.mean(axis=1)\n",
    "    \n",
    "    reco_list=[]\n",
    "    for movie in neighbors_movies:\n",
    "        neighbors_rating=neighbors_ratings.loc[:,movie]\n",
    "        sum=((neighbors_rating-neighbors_mean)*sim).sum()\n",
    "        prediction=user_mean+(sum/sim.sum())\n",
    "        reco_list.append([movie,round(prediction)])\n",
    "        \n",
    "    # sort movies by ratings    \n",
    "    reco_df = pd.DataFrame(reco_list, columns=['movieId','est_rating']).sort_values(by='est_rating',ascending=False)\n",
    "    return reco_df    "
   ]
  },
  {
   "cell_type": "markdown",
   "metadata": {
    "papermill": {
     "duration": 0.016971,
     "end_time": "2021-03-05T14:38:30.279966",
     "exception": false,
     "start_time": "2021-03-05T14:38:30.262995",
     "status": "completed"
    },
    "tags": []
   },
   "source": [
    "### Surprise KNNWithMean Model\n",
    "\n",
    "There is a famous library for recommendations called  Surprise. if we used the KNNWithMeans model from the library, it will do almost what we did  in our model. I will train the model and compare the result we had from our model with the Surprise model."
   ]
  },
  {
   "cell_type": "code",
   "execution_count": 10,
   "metadata": {
    "execution": {
     "iopub.execute_input": "2021-03-05T14:38:30.322033Z",
     "iopub.status.busy": "2021-03-05T14:38:30.321375Z",
     "iopub.status.idle": "2021-03-05T14:38:31.249882Z",
     "shell.execute_reply": "2021-03-05T14:38:31.249221Z"
    },
    "papermill": {
     "duration": 0.952804,
     "end_time": "2021-03-05T14:38:31.250055",
     "exception": false,
     "start_time": "2021-03-05T14:38:30.297251",
     "status": "completed"
    },
    "tags": []
   },
   "outputs": [
    {
     "name": "stdout",
     "output_type": "stream",
     "text": [
      "Computing the cosine similarity matrix...\n",
      "Done computing similarity matrix.\n"
     ]
    },
    {
     "name": "stderr",
     "output_type": "stream",
     "text": [
      "/opt/conda/lib/python3.7/site-packages/surprise/prediction_algorithms/algo_base.py:249: RuntimeWarning: invalid value encountered in double_scalars\n",
      "  sim = construction_func[name](*args)\n"
     ]
    },
    {
     "data": {
      "text/plain": [
       "<surprise.prediction_algorithms.knns.KNNWithMeans at 0x7f83bfddcc90>"
      ]
     },
     "execution_count": 10,
     "metadata": {},
     "output_type": "execute_result"
    }
   ],
   "source": [
    "from surprise import KNNWithMeans\n",
    "from surprise import Dataset\n",
    "from surprise import accuracy\n",
    "from surprise.model_selection import train_test_split\n",
    "from surprise import Reader\n",
    "reader = Reader()\n",
    "ratingsSet = Dataset.load_from_df(ratings[['userId', 'movieId', 'rating']], reader)\n",
    "\n",
    "sim_options = {'name': 'cosine',\n",
    "               'user_based': True  # compute  similarities between items\n",
    "               }\n",
    "train_ratings, test_ratings = train_test_split(ratingsSet, test_size=.2, random_state = 42)\n",
    "# Use user_based true/false to switch between user-based or item-based collaborative filtering\n",
    "algo = KNNWithMeans(k=20, sim_options=sim_options)\n",
    "algo.fit(train_ratings)"
   ]
  },
  {
   "cell_type": "markdown",
   "metadata": {
    "papermill": {
     "duration": 0.019317,
     "end_time": "2021-03-05T14:38:31.288783",
     "exception": false,
     "start_time": "2021-03-05T14:38:31.269466",
     "status": "completed"
    },
    "tags": []
   },
   "source": [
    "we will use user 22 for testing."
   ]
  },
  {
   "cell_type": "code",
   "execution_count": 11,
   "metadata": {
    "execution": {
     "iopub.execute_input": "2021-03-05T14:38:31.334878Z",
     "iopub.status.busy": "2021-03-05T14:38:31.333678Z",
     "iopub.status.idle": "2021-03-05T14:38:32.691887Z",
     "shell.execute_reply": "2021-03-05T14:38:32.691309Z"
    },
    "papermill": {
     "duration": 1.383586,
     "end_time": "2021-03-05T14:38:32.692053",
     "exception": false,
     "start_time": "2021-03-05T14:38:31.308467",
     "status": "completed"
    },
    "tags": []
   },
   "outputs": [
    {
     "data": {
      "text/html": [
       "<div>\n",
       "<style scoped>\n",
       "    .dataframe tbody tr th:only-of-type {\n",
       "        vertical-align: middle;\n",
       "    }\n",
       "\n",
       "    .dataframe tbody tr th {\n",
       "        vertical-align: top;\n",
       "    }\n",
       "\n",
       "    .dataframe thead th {\n",
       "        text-align: right;\n",
       "    }\n",
       "</style>\n",
       "<table border=\"1\" class=\"dataframe\">\n",
       "  <thead>\n",
       "    <tr style=\"text-align: right;\">\n",
       "      <th></th>\n",
       "      <th>movieId</th>\n",
       "      <th>est_rating</th>\n",
       "    </tr>\n",
       "  </thead>\n",
       "  <tbody>\n",
       "    <tr>\n",
       "      <th>0</th>\n",
       "      <td>1</td>\n",
       "      <td>4</td>\n",
       "    </tr>\n",
       "    <tr>\n",
       "      <th>485</th>\n",
       "      <td>1090</td>\n",
       "      <td>4</td>\n",
       "    </tr>\n",
       "    <tr>\n",
       "      <th>1220</th>\n",
       "      <td>2716</td>\n",
       "      <td>4</td>\n",
       "    </tr>\n",
       "    <tr>\n",
       "      <th>653</th>\n",
       "      <td>1387</td>\n",
       "      <td>4</td>\n",
       "    </tr>\n",
       "    <tr>\n",
       "      <th>501</th>\n",
       "      <td>1127</td>\n",
       "      <td>4</td>\n",
       "    </tr>\n",
       "    <tr>\n",
       "      <th>503</th>\n",
       "      <td>1129</td>\n",
       "      <td>4</td>\n",
       "    </tr>\n",
       "    <tr>\n",
       "      <th>261</th>\n",
       "      <td>527</td>\n",
       "      <td>4</td>\n",
       "    </tr>\n",
       "    <tr>\n",
       "      <th>508</th>\n",
       "      <td>1136</td>\n",
       "      <td>4</td>\n",
       "    </tr>\n",
       "    <tr>\n",
       "      <th>510</th>\n",
       "      <td>1148</td>\n",
       "      <td>4</td>\n",
       "    </tr>\n",
       "    <tr>\n",
       "      <th>349</th>\n",
       "      <td>778</td>\n",
       "      <td>4</td>\n",
       "    </tr>\n",
       "  </tbody>\n",
       "</table>\n",
       "</div>"
      ],
      "text/plain": [
       "      movieId  est_rating\n",
       "0           1           4\n",
       "485      1090           4\n",
       "1220     2716           4\n",
       "653      1387           4\n",
       "501      1127           4\n",
       "503      1129           4\n",
       "261       527           4\n",
       "508      1136           4\n",
       "510      1148           4\n",
       "349       778           4"
      ]
     },
     "execution_count": 11,
     "metadata": {},
     "output_type": "execute_result"
    }
   ],
   "source": [
    "test_user_id=22\n",
    "recommendations=getRecommendations(userId=test_user_id)\n",
    "recommendations.head(10)"
   ]
  },
  {
   "cell_type": "raw",
   "metadata": {
    "papermill": {
     "duration": 0.020347,
     "end_time": "2021-03-05T14:38:32.732504",
     "exception": false,
     "start_time": "2021-03-05T14:38:32.712157",
     "status": "completed"
    },
    "tags": []
   },
   "source": [
    "we need to compare the ratings with the real values from the testing data."
   ]
  },
  {
   "cell_type": "code",
   "execution_count": 12,
   "metadata": {
    "execution": {
     "iopub.execute_input": "2021-03-05T14:38:32.785262Z",
     "iopub.status.busy": "2021-03-05T14:38:32.782229Z",
     "iopub.status.idle": "2021-03-05T14:38:32.793838Z",
     "shell.execute_reply": "2021-03-05T14:38:32.793100Z"
    },
    "papermill": {
     "duration": 0.040221,
     "end_time": "2021-03-05T14:38:32.794060",
     "exception": false,
     "start_time": "2021-03-05T14:38:32.753839",
     "status": "completed"
    },
    "tags": []
   },
   "outputs": [],
   "source": [
    "result=recommendations.merge(testing[testing['userId']==610],on='movieId',how='inner')"
   ]
  },
  {
   "cell_type": "code",
   "execution_count": 13,
   "metadata": {
    "execution": {
     "iopub.execute_input": "2021-03-05T14:38:32.857864Z",
     "iopub.status.busy": "2021-03-05T14:38:32.852792Z",
     "iopub.status.idle": "2021-03-05T14:38:32.861320Z",
     "shell.execute_reply": "2021-03-05T14:38:32.861824Z"
    },
    "papermill": {
     "duration": 0.047274,
     "end_time": "2021-03-05T14:38:32.862084",
     "exception": false,
     "start_time": "2021-03-05T14:38:32.814810",
     "status": "completed"
    },
    "tags": []
   },
   "outputs": [],
   "source": [
    "items = result['movieId'].values\n",
    "topn = []\n",
    "for iid in items:\n",
    "        est = algo.predict(22, iid).est\n",
    "        topn.append([iid,est])\n",
    "result_surprise = pd.DataFrame(topn, columns=['movieId','est_sur_rating'])  \n",
    "result_surprise['est_sur_rating']=round(result_surprise['est_sur_rating'])"
   ]
  },
  {
   "cell_type": "code",
   "execution_count": 14,
   "metadata": {
    "execution": {
     "iopub.execute_input": "2021-03-05T14:38:32.915380Z",
     "iopub.status.busy": "2021-03-05T14:38:32.914494Z",
     "iopub.status.idle": "2021-03-05T14:38:32.917662Z",
     "shell.execute_reply": "2021-03-05T14:38:32.918316Z"
    },
    "papermill": {
     "duration": 0.034678,
     "end_time": "2021-03-05T14:38:32.918549",
     "exception": false,
     "start_time": "2021-03-05T14:38:32.883871",
     "status": "completed"
    },
    "tags": []
   },
   "outputs": [],
   "source": [
    "result=result.merge(result_surprise,on='movieId',how='inner')"
   ]
  },
  {
   "cell_type": "code",
   "execution_count": 15,
   "metadata": {
    "execution": {
     "iopub.execute_input": "2021-03-05T14:38:32.974714Z",
     "iopub.status.busy": "2021-03-05T14:38:32.973831Z",
     "iopub.status.idle": "2021-03-05T14:38:32.979101Z",
     "shell.execute_reply": "2021-03-05T14:38:32.978493Z"
    },
    "papermill": {
     "duration": 0.039428,
     "end_time": "2021-03-05T14:38:32.979274",
     "exception": false,
     "start_time": "2021-03-05T14:38:32.939846",
     "status": "completed"
    },
    "tags": []
   },
   "outputs": [
    {
     "data": {
      "text/html": [
       "<div>\n",
       "<style scoped>\n",
       "    .dataframe tbody tr th:only-of-type {\n",
       "        vertical-align: middle;\n",
       "    }\n",
       "\n",
       "    .dataframe tbody tr th {\n",
       "        vertical-align: top;\n",
       "    }\n",
       "\n",
       "    .dataframe thead th {\n",
       "        text-align: right;\n",
       "    }\n",
       "</style>\n",
       "<table border=\"1\" class=\"dataframe\">\n",
       "  <thead>\n",
       "    <tr style=\"text-align: right;\">\n",
       "      <th></th>\n",
       "      <th>movieId</th>\n",
       "      <th>est_rating</th>\n",
       "      <th>userId</th>\n",
       "      <th>rating</th>\n",
       "      <th>timestamp</th>\n",
       "      <th>est_sur_rating</th>\n",
       "    </tr>\n",
       "  </thead>\n",
       "  <tbody>\n",
       "    <tr>\n",
       "      <th>0</th>\n",
       "      <td>750</td>\n",
       "      <td>4</td>\n",
       "      <td>610</td>\n",
       "      <td>4.0</td>\n",
       "      <td>1479542905</td>\n",
       "      <td>3.0</td>\n",
       "    </tr>\n",
       "    <tr>\n",
       "      <th>1</th>\n",
       "      <td>3703</td>\n",
       "      <td>4</td>\n",
       "      <td>610</td>\n",
       "      <td>4.0</td>\n",
       "      <td>1493850272</td>\n",
       "      <td>3.0</td>\n",
       "    </tr>\n",
       "    <tr>\n",
       "      <th>2</th>\n",
       "      <td>110</td>\n",
       "      <td>4</td>\n",
       "      <td>610</td>\n",
       "      <td>4.0</td>\n",
       "      <td>1479545829</td>\n",
       "      <td>3.0</td>\n",
       "    </tr>\n",
       "    <tr>\n",
       "      <th>3</th>\n",
       "      <td>1213</td>\n",
       "      <td>4</td>\n",
       "      <td>610</td>\n",
       "      <td>5.0</td>\n",
       "      <td>1479542160</td>\n",
       "      <td>3.0</td>\n",
       "    </tr>\n",
       "    <tr>\n",
       "      <th>4</th>\n",
       "      <td>3114</td>\n",
       "      <td>4</td>\n",
       "      <td>610</td>\n",
       "      <td>5.0</td>\n",
       "      <td>1479542923</td>\n",
       "      <td>3.0</td>\n",
       "    </tr>\n",
       "    <tr>\n",
       "      <th>5</th>\n",
       "      <td>3300</td>\n",
       "      <td>3</td>\n",
       "      <td>610</td>\n",
       "      <td>4.0</td>\n",
       "      <td>1493845462</td>\n",
       "      <td>3.0</td>\n",
       "    </tr>\n",
       "    <tr>\n",
       "      <th>6</th>\n",
       "      <td>3298</td>\n",
       "      <td>3</td>\n",
       "      <td>610</td>\n",
       "      <td>4.0</td>\n",
       "      <td>1493845268</td>\n",
       "      <td>3.0</td>\n",
       "    </tr>\n",
       "    <tr>\n",
       "      <th>7</th>\n",
       "      <td>44191</td>\n",
       "      <td>3</td>\n",
       "      <td>610</td>\n",
       "      <td>4.0</td>\n",
       "      <td>1493844860</td>\n",
       "      <td>3.0</td>\n",
       "    </tr>\n",
       "    <tr>\n",
       "      <th>8</th>\n",
       "      <td>36401</td>\n",
       "      <td>3</td>\n",
       "      <td>610</td>\n",
       "      <td>4.0</td>\n",
       "      <td>1479543351</td>\n",
       "      <td>2.0</td>\n",
       "    </tr>\n",
       "    <tr>\n",
       "      <th>9</th>\n",
       "      <td>3623</td>\n",
       "      <td>3</td>\n",
       "      <td>610</td>\n",
       "      <td>3.0</td>\n",
       "      <td>1479542001</td>\n",
       "      <td>1.0</td>\n",
       "    </tr>\n",
       "  </tbody>\n",
       "</table>\n",
       "</div>"
      ],
      "text/plain": [
       "   movieId  est_rating  userId  rating   timestamp  est_sur_rating\n",
       "0      750           4     610     4.0  1479542905             3.0\n",
       "1     3703           4     610     4.0  1493850272             3.0\n",
       "2      110           4     610     4.0  1479545829             3.0\n",
       "3     1213           4     610     5.0  1479542160             3.0\n",
       "4     3114           4     610     5.0  1479542923             3.0\n",
       "5     3300           3     610     4.0  1493845462             3.0\n",
       "6     3298           3     610     4.0  1493845268             3.0\n",
       "7    44191           3     610     4.0  1493844860             3.0\n",
       "8    36401           3     610     4.0  1479543351             2.0\n",
       "9     3623           3     610     3.0  1479542001             1.0"
      ]
     },
     "execution_count": 15,
     "metadata": {},
     "output_type": "execute_result"
    }
   ],
   "source": [
    "result.head(10)"
   ]
  },
  {
   "cell_type": "code",
   "execution_count": 16,
   "metadata": {
    "execution": {
     "iopub.execute_input": "2021-03-05T14:38:33.026761Z",
     "iopub.status.busy": "2021-03-05T14:38:33.025846Z",
     "iopub.status.idle": "2021-03-05T14:38:33.030295Z",
     "shell.execute_reply": "2021-03-05T14:38:33.030733Z"
    },
    "papermill": {
     "duration": 0.031331,
     "end_time": "2021-03-05T14:38:33.030905",
     "exception": false,
     "start_time": "2021-03-05T14:38:32.999574",
     "status": "completed"
    },
    "tags": []
   },
   "outputs": [
    {
     "data": {
      "text/plain": [
       "1.0705453823777566"
      ]
     },
     "execution_count": 16,
     "metadata": {},
     "output_type": "execute_result"
    }
   ],
   "source": [
    "mean_squared_error(result['rating'], result['est_rating'], squared=False)"
   ]
  },
  {
   "cell_type": "code",
   "execution_count": 17,
   "metadata": {
    "execution": {
     "iopub.execute_input": "2021-03-05T14:38:33.079405Z",
     "iopub.status.busy": "2021-03-05T14:38:33.078673Z",
     "iopub.status.idle": "2021-03-05T14:38:33.082263Z",
     "shell.execute_reply": "2021-03-05T14:38:33.081614Z"
    },
    "papermill": {
     "duration": 0.030822,
     "end_time": "2021-03-05T14:38:33.082434",
     "exception": false,
     "start_time": "2021-03-05T14:38:33.051612",
     "status": "completed"
    },
    "tags": []
   },
   "outputs": [
    {
     "data": {
      "text/plain": [
       "1.699305872831081"
      ]
     },
     "execution_count": 17,
     "metadata": {},
     "output_type": "execute_result"
    }
   ],
   "source": [
    "mean_squared_error(result['rating'], result['est_sur_rating'], squared=False)"
   ]
  },
  {
   "cell_type": "markdown",
   "metadata": {
    "papermill": {
     "duration": 0.02226,
     "end_time": "2021-03-05T14:38:33.127654",
     "exception": false,
     "start_time": "2021-03-05T14:38:33.105394",
     "status": "completed"
    },
    "tags": []
   },
   "source": [
    "The RSME from Surprise predictions is larger than our model for this user. which means that our model has more accurate results for user 610 differentially it's not always the case. try to change the test user id and check the result.\n",
    "The final recommendations for the user are:"
   ]
  },
  {
   "cell_type": "code",
   "execution_count": 18,
   "metadata": {
    "execution": {
     "iopub.execute_input": "2021-03-05T14:38:33.179216Z",
     "iopub.status.busy": "2021-03-05T14:38:33.178544Z",
     "iopub.status.idle": "2021-03-05T14:38:33.196781Z",
     "shell.execute_reply": "2021-03-05T14:38:33.197315Z"
    },
    "papermill": {
     "duration": 0.047018,
     "end_time": "2021-03-05T14:38:33.197523",
     "exception": false,
     "start_time": "2021-03-05T14:38:33.150505",
     "status": "completed"
    },
    "tags": []
   },
   "outputs": [
    {
     "data": {
      "text/html": [
       "<div>\n",
       "<style scoped>\n",
       "    .dataframe tbody tr th:only-of-type {\n",
       "        vertical-align: middle;\n",
       "    }\n",
       "\n",
       "    .dataframe tbody tr th {\n",
       "        vertical-align: top;\n",
       "    }\n",
       "\n",
       "    .dataframe thead th {\n",
       "        text-align: right;\n",
       "    }\n",
       "</style>\n",
       "<table border=\"1\" class=\"dataframe\">\n",
       "  <thead>\n",
       "    <tr style=\"text-align: right;\">\n",
       "      <th></th>\n",
       "      <th>movieId</th>\n",
       "      <th>title</th>\n",
       "      <th>genres</th>\n",
       "      <th>est_rating</th>\n",
       "    </tr>\n",
       "  </thead>\n",
       "  <tbody>\n",
       "    <tr>\n",
       "      <th>0</th>\n",
       "      <td>1</td>\n",
       "      <td>Toy Story (1995)</td>\n",
       "      <td>Adventure|Animation|Children|Comedy|Fantasy</td>\n",
       "      <td>4</td>\n",
       "    </tr>\n",
       "    <tr>\n",
       "      <th>123</th>\n",
       "      <td>296</td>\n",
       "      <td>Pulp Fiction (1994)</td>\n",
       "      <td>Comedy|Crime|Drama|Thriller</td>\n",
       "      <td>4</td>\n",
       "    </tr>\n",
       "    <tr>\n",
       "      <th>462</th>\n",
       "      <td>1196</td>\n",
       "      <td>Star Wars: Episode V - The Empire Strikes Back...</td>\n",
       "      <td>Action|Adventure|Sci-Fi</td>\n",
       "      <td>4</td>\n",
       "    </tr>\n",
       "    <tr>\n",
       "      <th>534</th>\n",
       "      <td>1287</td>\n",
       "      <td>Ben-Hur (1959)</td>\n",
       "      <td>Action|Adventure|Drama</td>\n",
       "      <td>4</td>\n",
       "    </tr>\n",
       "    <tr>\n",
       "      <th>535</th>\n",
       "      <td>1288</td>\n",
       "      <td>This Is Spinal Tap (1984)</td>\n",
       "      <td>Comedy</td>\n",
       "      <td>4</td>\n",
       "    </tr>\n",
       "    <tr>\n",
       "      <th>1543</th>\n",
       "      <td>3836</td>\n",
       "      <td>Kelly's Heroes (1970)</td>\n",
       "      <td>Action|Comedy|War</td>\n",
       "      <td>4</td>\n",
       "    </tr>\n",
       "    <tr>\n",
       "      <th>537</th>\n",
       "      <td>1291</td>\n",
       "      <td>Indiana Jones and the Last Crusade (1989)</td>\n",
       "      <td>Action|Adventure</td>\n",
       "      <td>4</td>\n",
       "    </tr>\n",
       "    <tr>\n",
       "      <th>261</th>\n",
       "      <td>608</td>\n",
       "      <td>Fargo (1996)</td>\n",
       "      <td>Comedy|Crime|Drama|Thriller</td>\n",
       "      <td>4</td>\n",
       "    </tr>\n",
       "    <tr>\n",
       "      <th>357</th>\n",
       "      <td>953</td>\n",
       "      <td>It's a Wonderful Life (1946)</td>\n",
       "      <td>Children|Drama|Fantasy|Romance</td>\n",
       "      <td>4</td>\n",
       "    </tr>\n",
       "    <tr>\n",
       "      <th>1064</th>\n",
       "      <td>2529</td>\n",
       "      <td>Planet of the Apes (1968)</td>\n",
       "      <td>Action|Drama|Sci-Fi</td>\n",
       "      <td>4</td>\n",
       "    </tr>\n",
       "    <tr>\n",
       "      <th>662</th>\n",
       "      <td>1617</td>\n",
       "      <td>L.A. Confidential (1997)</td>\n",
       "      <td>Crime|Film-Noir|Mystery|Thriller</td>\n",
       "      <td>4</td>\n",
       "    </tr>\n",
       "    <tr>\n",
       "      <th>476</th>\n",
       "      <td>1213</td>\n",
       "      <td>Goodfellas (1990)</td>\n",
       "      <td>Crime|Drama</td>\n",
       "      <td>4</td>\n",
       "    </tr>\n",
       "    <tr>\n",
       "      <th>477</th>\n",
       "      <td>1214</td>\n",
       "      <td>Alien (1979)</td>\n",
       "      <td>Horror|Sci-Fi</td>\n",
       "      <td>4</td>\n",
       "    </tr>\n",
       "    <tr>\n",
       "      <th>98</th>\n",
       "      <td>235</td>\n",
       "      <td>Ed Wood (1994)</td>\n",
       "      <td>Comedy|Drama</td>\n",
       "      <td>4</td>\n",
       "    </tr>\n",
       "    <tr>\n",
       "      <th>1170</th>\n",
       "      <td>2804</td>\n",
       "      <td>Christmas Story, A (1983)</td>\n",
       "      <td>Children|Comedy</td>\n",
       "      <td>4</td>\n",
       "    </tr>\n",
       "    <tr>\n",
       "      <th>505</th>\n",
       "      <td>1252</td>\n",
       "      <td>Chinatown (1974)</td>\n",
       "      <td>Crime|Film-Noir|Mystery|Thriller</td>\n",
       "      <td>4</td>\n",
       "    </tr>\n",
       "    <tr>\n",
       "      <th>154</th>\n",
       "      <td>364</td>\n",
       "      <td>Lion King, The (1994)</td>\n",
       "      <td>Adventure|Animation|Children|Drama|Musical|IMAX</td>\n",
       "      <td>4</td>\n",
       "    </tr>\n",
       "    <tr>\n",
       "      <th>347</th>\n",
       "      <td>924</td>\n",
       "      <td>2001: A Space Odyssey (1968)</td>\n",
       "      <td>Adventure|Drama|Sci-Fi</td>\n",
       "      <td>4</td>\n",
       "    </tr>\n",
       "    <tr>\n",
       "      <th>49</th>\n",
       "      <td>110</td>\n",
       "      <td>Braveheart (1995)</td>\n",
       "      <td>Action|Drama|War</td>\n",
       "      <td>4</td>\n",
       "    </tr>\n",
       "    <tr>\n",
       "      <th>481</th>\n",
       "      <td>1219</td>\n",
       "      <td>Psycho (1960)</td>\n",
       "      <td>Crime|Horror</td>\n",
       "      <td>4</td>\n",
       "    </tr>\n",
       "    <tr>\n",
       "      <th>474</th>\n",
       "      <td>1210</td>\n",
       "      <td>Star Wars: Episode VI - Return of the Jedi (1983)</td>\n",
       "      <td>Action|Adventure|Sci-Fi</td>\n",
       "      <td>4</td>\n",
       "    </tr>\n",
       "    <tr>\n",
       "      <th>258</th>\n",
       "      <td>596</td>\n",
       "      <td>Pinocchio (1940)</td>\n",
       "      <td>Animation|Children|Fantasy|Musical</td>\n",
       "      <td>4</td>\n",
       "    </tr>\n",
       "    <tr>\n",
       "      <th>463</th>\n",
       "      <td>1197</td>\n",
       "      <td>Princess Bride, The (1987)</td>\n",
       "      <td>Action|Adventure|Comedy|Fantasy|Romance</td>\n",
       "      <td>4</td>\n",
       "    </tr>\n",
       "    <tr>\n",
       "      <th>464</th>\n",
       "      <td>1198</td>\n",
       "      <td>Raiders of the Lost Ark (Indiana Jones and the...</td>\n",
       "      <td>Action|Adventure</td>\n",
       "      <td>4</td>\n",
       "    </tr>\n",
       "    <tr>\n",
       "      <th>1196</th>\n",
       "      <td>2871</td>\n",
       "      <td>Deliverance (1972)</td>\n",
       "      <td>Adventure|Drama|Thriller</td>\n",
       "      <td>4</td>\n",
       "    </tr>\n",
       "    <tr>\n",
       "      <th>513</th>\n",
       "      <td>1262</td>\n",
       "      <td>Great Escape, The (1963)</td>\n",
       "      <td>Action|Adventure|Drama|War</td>\n",
       "      <td>4</td>\n",
       "    </tr>\n",
       "    <tr>\n",
       "      <th>911</th>\n",
       "      <td>2194</td>\n",
       "      <td>Untouchables, The (1987)</td>\n",
       "      <td>Action|Crime|Drama</td>\n",
       "      <td>4</td>\n",
       "    </tr>\n",
       "    <tr>\n",
       "      <th>515</th>\n",
       "      <td>1265</td>\n",
       "      <td>Groundhog Day (1993)</td>\n",
       "      <td>Comedy|Fantasy|Romance</td>\n",
       "      <td>4</td>\n",
       "    </tr>\n",
       "    <tr>\n",
       "      <th>516</th>\n",
       "      <td>1266</td>\n",
       "      <td>Unforgiven (1992)</td>\n",
       "      <td>Drama|Western</td>\n",
       "      <td>4</td>\n",
       "    </tr>\n",
       "    <tr>\n",
       "      <th>1245</th>\n",
       "      <td>2997</td>\n",
       "      <td>Being John Malkovich (1999)</td>\n",
       "      <td>Comedy|Drama|Fantasy</td>\n",
       "      <td>4</td>\n",
       "    </tr>\n",
       "  </tbody>\n",
       "</table>\n",
       "</div>"
      ],
      "text/plain": [
       "      movieId                                              title  \\\n",
       "0           1                                   Toy Story (1995)   \n",
       "123       296                                Pulp Fiction (1994)   \n",
       "462      1196  Star Wars: Episode V - The Empire Strikes Back...   \n",
       "534      1287                                     Ben-Hur (1959)   \n",
       "535      1288                          This Is Spinal Tap (1984)   \n",
       "1543     3836                              Kelly's Heroes (1970)   \n",
       "537      1291          Indiana Jones and the Last Crusade (1989)   \n",
       "261       608                                       Fargo (1996)   \n",
       "357       953                       It's a Wonderful Life (1946)   \n",
       "1064     2529                          Planet of the Apes (1968)   \n",
       "662      1617                           L.A. Confidential (1997)   \n",
       "476      1213                                  Goodfellas (1990)   \n",
       "477      1214                                       Alien (1979)   \n",
       "98        235                                     Ed Wood (1994)   \n",
       "1170     2804                          Christmas Story, A (1983)   \n",
       "505      1252                                   Chinatown (1974)   \n",
       "154       364                              Lion King, The (1994)   \n",
       "347       924                       2001: A Space Odyssey (1968)   \n",
       "49        110                                  Braveheart (1995)   \n",
       "481      1219                                      Psycho (1960)   \n",
       "474      1210  Star Wars: Episode VI - Return of the Jedi (1983)   \n",
       "258       596                                   Pinocchio (1940)   \n",
       "463      1197                         Princess Bride, The (1987)   \n",
       "464      1198  Raiders of the Lost Ark (Indiana Jones and the...   \n",
       "1196     2871                                 Deliverance (1972)   \n",
       "513      1262                           Great Escape, The (1963)   \n",
       "911      2194                           Untouchables, The (1987)   \n",
       "515      1265                               Groundhog Day (1993)   \n",
       "516      1266                                  Unforgiven (1992)   \n",
       "1245     2997                        Being John Malkovich (1999)   \n",
       "\n",
       "                                               genres  est_rating  \n",
       "0         Adventure|Animation|Children|Comedy|Fantasy           4  \n",
       "123                       Comedy|Crime|Drama|Thriller           4  \n",
       "462                           Action|Adventure|Sci-Fi           4  \n",
       "534                            Action|Adventure|Drama           4  \n",
       "535                                            Comedy           4  \n",
       "1543                                Action|Comedy|War           4  \n",
       "537                                  Action|Adventure           4  \n",
       "261                       Comedy|Crime|Drama|Thriller           4  \n",
       "357                    Children|Drama|Fantasy|Romance           4  \n",
       "1064                              Action|Drama|Sci-Fi           4  \n",
       "662                  Crime|Film-Noir|Mystery|Thriller           4  \n",
       "476                                       Crime|Drama           4  \n",
       "477                                     Horror|Sci-Fi           4  \n",
       "98                                       Comedy|Drama           4  \n",
       "1170                                  Children|Comedy           4  \n",
       "505                  Crime|Film-Noir|Mystery|Thriller           4  \n",
       "154   Adventure|Animation|Children|Drama|Musical|IMAX           4  \n",
       "347                            Adventure|Drama|Sci-Fi           4  \n",
       "49                                   Action|Drama|War           4  \n",
       "481                                      Crime|Horror           4  \n",
       "474                           Action|Adventure|Sci-Fi           4  \n",
       "258                Animation|Children|Fantasy|Musical           4  \n",
       "463           Action|Adventure|Comedy|Fantasy|Romance           4  \n",
       "464                                  Action|Adventure           4  \n",
       "1196                         Adventure|Drama|Thriller           4  \n",
       "513                        Action|Adventure|Drama|War           4  \n",
       "911                                Action|Crime|Drama           4  \n",
       "515                            Comedy|Fantasy|Romance           4  \n",
       "516                                     Drama|Western           4  \n",
       "1245                             Comedy|Drama|Fantasy           4  "
      ]
     },
     "execution_count": 18,
     "metadata": {},
     "output_type": "execute_result"
    }
   ],
   "source": [
    "movies.merge(recommendations,on='movieId',how='inner').sort_values(by='est_rating',ascending=False)[:30]\n"
   ]
  }
 ],
 "metadata": {
  "kernelspec": {
   "display_name": "Python 3",
   "language": "python",
   "name": "python3"
  },
  "language_info": {
   "codemirror_mode": {
    "name": "ipython",
    "version": 3
   },
   "file_extension": ".py",
   "mimetype": "text/x-python",
   "name": "python",
   "nbconvert_exporter": "python",
   "pygments_lexer": "ipython3",
   "version": "3.7.9"
  },
  "papermill": {
   "default_parameters": {},
   "duration": 12.718186,
   "end_time": "2021-03-05T14:38:34.237832",
   "environment_variables": {},
   "exception": null,
   "input_path": "__notebook__.ipynb",
   "output_path": "__notebook__.ipynb",
   "parameters": {},
   "start_time": "2021-03-05T14:38:21.519646",
   "version": "2.2.2"
  }
 },
 "nbformat": 4,
 "nbformat_minor": 4
}
